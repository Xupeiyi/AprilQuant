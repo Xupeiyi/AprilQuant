{
 "cells": [
  {
   "cell_type": "code",
   "execution_count": 1,
   "id": "f80d7321",
   "metadata": {},
   "outputs": [],
   "source": [
    "import os\n",
    "import sys\n",
    "sys.path.append('C:\\\\Users\\\\xpy\\\\work\\\\strategies2py\\\\AprilQuant')\n",
    "import pandas as pd\n",
    "from glob import glob\n",
    "from collections import defaultdict\n",
    "from concurrent import futures\n",
    "from itertools import product\n",
    "import pymongo\n",
    "\n",
    "from signals import ChandelierSignalAdder\n",
    "from backtest import run_bt_backtest, run_pd_backtest"
   ]
  },
  {
   "cell_type": "code",
   "execution_count": 2,
   "id": "987929a0",
   "metadata": {},
   "outputs": [],
   "source": [
    "def read_cache():\n",
    "    root_path = '..\\\\..\\\\cache\\\\'\n",
    "    categories = os.listdir(root_path)\n",
    "\n",
    "    backtest_data = defaultdict(list)\n",
    "\n",
    "    for category in categories:\n",
    "        category_path = root_path + f'{category}\\\\'\n",
    "        csv_files = os.listdir(category_path)\n",
    "        for file in csv_files:\n",
    "            df = pd.read_csv(category_path + file, parse_dates=['date'])\n",
    "            backtest_data[category].append(df)\n",
    "    \n",
    "    return backtest_data"
   ]
  },
  {
   "cell_type": "code",
   "execution_count": 3,
   "id": "fd4815b1",
   "metadata": {},
   "outputs": [],
   "source": [
    "class Tester:\n",
    "    backtest_data = read_cache()\n",
    "    \n",
    "    def __init__(self, params):\n",
    "        # 数据标记\n",
    "        self.params = params\n",
    "        \n",
    "    def test(self):\n",
    "        category = self.params['data_label']['category']\n",
    "        idx = self.params['data_label']['idx']\n",
    "        \n",
    "        df = self.backtest_data[category][idx]\n",
    "        signal_adder = ChandelierSignalAdder(df)\n",
    "        \n",
    "        res = dict()\n",
    "        res['params'] = self.params\n",
    "        try:\n",
    "            signal_adder.add_enter_signal(**self.params['enter_signal'])\n",
    "        except ValueError as e:\n",
    "            res['error'] = str(e)\n",
    "        else:\n",
    "            signal_adder.add_exit_signal(**self.params['exit_signal'])\n",
    "            signal_adder.add_position_direction()\n",
    "\n",
    "            res['bt_cum_ret'] = run_bt_backtest(signal_adder.df).reset_index().to_dict('list')\n",
    "            res['pd_cum_ret'] = run_pd_backtest(signal_adder.df).reset_index().to_dict('list')\n",
    "        \n",
    "        return res"
   ]
  },
  {
   "cell_type": "code",
   "execution_count": null,
   "id": "7520030f",
   "metadata": {},
   "outputs": [],
   "source": []
  },
  {
   "cell_type": "code",
   "execution_count": 5,
   "id": "af8fa830",
   "metadata": {},
   "outputs": [],
   "source": [
    "length_rng = range(40, 120, 10)\n",
    "ema_length_rng = range(100, 180, 10)\n",
    "trs_rng = (0.01*t for t in range(10, 20, 2))\n",
    "lqk_width_rng = (0.1*w for w in range(1, 4, 1))\n",
    "lqk_floor_rng = (0.1*f for f in range(3, 6, 1))\n",
    "\n",
    "data_label_list = ({'category': category, 'idx': idx} \n",
    "                   for category, df_list in Tester.backtest_data.items()\n",
    "                   for idx, _ in enumerate(df_list))\n",
    "enter_signal_params_list = ({'length': length, 'ema_length': ema_length} \n",
    "                             for length, ema_length \n",
    "                            in product(length_rng, ema_length_rng))\n",
    "exit_signal_params_list = ({'trs': trs, 'lqk_width': lqk_width, 'lqk_floor': lqk_floor} \n",
    "                           for trs, lqk_width, lqk_floor \n",
    "                           in product(trs_rng, lqk_width_rng, lqk_floor_rng))\n",
    "params_lists = [{'data_label': data_label, 'enter_signal':enter_signal_params, 'exit_signal': exit_signal_params}\n",
    "                for data_label, enter_signal_params, exit_signal_params \n",
    "                in product(data_label_list, enter_signal_params_list, exit_signal_params_list)]"
   ]
  },
  {
   "cell_type": "code",
   "execution_count": 6,
   "id": "d0ac71c3",
   "metadata": {
    "scrolled": true
   },
   "outputs": [],
   "source": [
    "sample_params = params_lists[0:4]\n",
    "sample_testers = [Tester(params) for params in sample_params]"
   ]
  },
  {
   "cell_type": "code",
   "execution_count": 7,
   "id": "07fd5011",
   "metadata": {},
   "outputs": [
    {
     "name": "stderr",
     "output_type": "stream",
     "text": [
      "d:\\python\\lib\\site-packages\\pandas\\core\\indexing.py:1637: SettingWithCopyWarning: \n",
      "A value is trying to be set on a copy of a slice from a DataFrame\n",
      "\n",
      "See the caveats in the documentation: https://pandas.pydata.org/pandas-docs/stable/user_guide/indexing.html#returning-a-view-versus-a-copy\n",
      "  self._setitem_single_block(indexer, value, name)\n",
      "d:\\python\\lib\\site-packages\\pandas\\core\\indexing.py:1637: SettingWithCopyWarning: \n",
      "A value is trying to be set on a copy of a slice from a DataFrame\n",
      "\n",
      "See the caveats in the documentation: https://pandas.pydata.org/pandas-docs/stable/user_guide/indexing.html#returning-a-view-versus-a-copy\n",
      "  self._setitem_single_block(indexer, value, name)\n",
      "d:\\python\\lib\\site-packages\\pandas\\core\\indexing.py:1637: SettingWithCopyWarning: \n",
      "A value is trying to be set on a copy of a slice from a DataFrame\n",
      "\n",
      "See the caveats in the documentation: https://pandas.pydata.org/pandas-docs/stable/user_guide/indexing.html#returning-a-view-versus-a-copy\n",
      "  self._setitem_single_block(indexer, value, name)\n",
      "d:\\python\\lib\\site-packages\\pandas\\core\\indexing.py:1637: SettingWithCopyWarning: \n",
      "A value is trying to be set on a copy of a slice from a DataFrame\n",
      "\n",
      "See the caveats in the documentation: https://pandas.pydata.org/pandas-docs/stable/user_guide/indexing.html#returning-a-view-versus-a-copy\n",
      "  self._setitem_single_block(indexer, value, name)\n"
     ]
    }
   ],
   "source": [
    "def run_test(tester):\n",
    "    return tester.test()\n",
    "    \n",
    "\n",
    "res = list(map(run_test, sample_testers))"
   ]
  },
  {
   "cell_type": "code",
   "execution_count": 8,
   "id": "c0069fb3",
   "metadata": {},
   "outputs": [],
   "source": [
    "r = "
   ]
  },
  {
   "cell_type": "code",
   "execution_count": 11,
   "id": "20d4062b",
   "metadata": {
    "scrolled": true
   },
   "outputs": [],
   "source": [
    "client = pymongo.MongoClient(\"mongodb://localhost:27017/\")\n",
    "db = client[\"AprilQuant\"]\n",
    "col = db['chandelier']\n",
    "x = col.insert_one(res[1])"
   ]
  },
  {
   "cell_type": "code",
   "execution_count": null,
   "id": "4b560908",
   "metadata": {},
   "outputs": [],
   "source": [
    "pd.DataFrame(r['bt_cum_ret'])['index']"
   ]
  },
  {
   "cell_type": "code",
   "execution_count": null,
   "id": "915eb56d",
   "metadata": {},
   "outputs": [],
   "source": [
    "list(res)"
   ]
  }
 ],
 "metadata": {
  "kernelspec": {
   "display_name": "Python 3",
   "language": "python",
   "name": "python3"
  },
  "language_info": {
   "codemirror_mode": {
    "name": "ipython",
    "version": 3
   },
   "file_extension": ".py",
   "mimetype": "text/x-python",
   "name": "python",
   "nbconvert_exporter": "python",
   "pygments_lexer": "ipython3",
   "version": "3.7.6"
  }
 },
 "nbformat": 4,
 "nbformat_minor": 5
}
