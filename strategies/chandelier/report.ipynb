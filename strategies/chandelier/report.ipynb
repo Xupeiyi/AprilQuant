{
 "cells": [
  {
   "cell_type": "code",
   "execution_count": 26,
   "id": "f80d7321",
   "metadata": {},
   "outputs": [],
   "source": [
    "import os\n",
    "import sys\n",
    "sys.path.append('C:\\\\Users\\\\xpy\\\\work\\\\strategies2py\\\\AprilQuant')\n",
    "import pandas as pd\n",
    "import matplotlib.pyplot as plt\n",
    "import pymongo\n",
    "import numpy as np\n",
    "\n",
    "client = pymongo.MongoClient(\"mongodb://localhost:27017/\")\n",
    "db = client[\"AprilQuant\"]\n",
    "col = db['chandelier']"
   ]
  },
  {
   "cell_type": "code",
   "execution_count": 2,
   "id": "df34b2cc",
   "metadata": {},
   "outputs": [],
   "source": [
    "def comparison_plot(curves, title, legends):\n",
    "    fig=plt.figure(figsize=(16, 9))\n",
    "    plt.title(title)\n",
    "    for curve in curves:\n",
    "        plt.plot(curve)\n",
    "    plt.legend(legends)"
   ]
  },
  {
   "cell_type": "code",
   "execution_count": 9,
   "id": "1f273cf0",
   "metadata": {},
   "outputs": [],
   "source": [
    "length = 100\n",
    "ema_length = 40\n",
    "cursor = db.chandelier.find({'params.enter_signal.length':40,\n",
    "                             'params.enter_signal.ema_length':100})"
   ]
  },
  {
   "cell_type": "code",
   "execution_count": 10,
   "id": "59849f8a",
   "metadata": {},
   "outputs": [],
   "source": [
    "documents = list(cursor)"
   ]
  },
  {
   "cell_type": "code",
   "execution_count": 21,
   "id": "904d7540",
   "metadata": {},
   "outputs": [],
   "source": [
    "cr0 = pd.DataFrame(documents[0]['bt_cum_ret']).set_index('index')\n",
    "cr1 = pd.DataFrame(documents[31]['bt_cum_ret']).set_index('index') "
   ]
  },
  {
   "cell_type": "code",
   "execution_count": 30,
   "id": "c49b6320",
   "metadata": {},
   "outputs": [
    {
     "data": {
      "text/html": [
       "<div>\n",
       "<style scoped>\n",
       "    .dataframe tbody tr th:only-of-type {\n",
       "        vertical-align: middle;\n",
       "    }\n",
       "\n",
       "    .dataframe tbody tr th {\n",
       "        vertical-align: top;\n",
       "    }\n",
       "\n",
       "    .dataframe thead th {\n",
       "        text-align: right;\n",
       "    }\n",
       "</style>\n",
       "<table border=\"1\" class=\"dataframe\">\n",
       "  <thead>\n",
       "    <tr style=\"text-align: right;\">\n",
       "      <th></th>\n",
       "      <th>cum_ret</th>\n",
       "    </tr>\n",
       "    <tr>\n",
       "      <th>index</th>\n",
       "      <th></th>\n",
       "    </tr>\n",
       "  </thead>\n",
       "  <tbody>\n",
       "    <tr>\n",
       "      <th>2018-10-25 00:00:00.000</th>\n",
       "      <td>1.000000</td>\n",
       "    </tr>\n",
       "    <tr>\n",
       "      <th>2018-10-25 23:59:59.999</th>\n",
       "      <td>1.000000</td>\n",
       "    </tr>\n",
       "    <tr>\n",
       "      <th>2018-10-26 00:00:00.000</th>\n",
       "      <td>1.000000</td>\n",
       "    </tr>\n",
       "    <tr>\n",
       "      <th>2018-10-26 23:59:59.999</th>\n",
       "      <td>1.000000</td>\n",
       "    </tr>\n",
       "    <tr>\n",
       "      <th>2018-10-29 00:00:00.000</th>\n",
       "      <td>1.000000</td>\n",
       "    </tr>\n",
       "    <tr>\n",
       "      <th>...</th>\n",
       "      <td>...</td>\n",
       "    </tr>\n",
       "    <tr>\n",
       "      <th>2021-04-26 23:59:59.999</th>\n",
       "      <td>0.996666</td>\n",
       "    </tr>\n",
       "    <tr>\n",
       "      <th>2021-04-27 00:00:00.000</th>\n",
       "      <td>0.996666</td>\n",
       "    </tr>\n",
       "    <tr>\n",
       "      <th>2021-04-27 23:59:59.999</th>\n",
       "      <td>0.996666</td>\n",
       "    </tr>\n",
       "    <tr>\n",
       "      <th>2021-04-28 00:00:00.000</th>\n",
       "      <td>0.996666</td>\n",
       "    </tr>\n",
       "    <tr>\n",
       "      <th>2021-04-28 23:59:59.999</th>\n",
       "      <td>0.996666</td>\n",
       "    </tr>\n",
       "  </tbody>\n",
       "</table>\n",
       "<p>1222 rows × 1 columns</p>\n",
       "</div>"
      ],
      "text/plain": [
       "                          cum_ret\n",
       "index                            \n",
       "2018-10-25 00:00:00.000  1.000000\n",
       "2018-10-25 23:59:59.999  1.000000\n",
       "2018-10-26 00:00:00.000  1.000000\n",
       "2018-10-26 23:59:59.999  1.000000\n",
       "2018-10-29 00:00:00.000  1.000000\n",
       "...                           ...\n",
       "2021-04-26 23:59:59.999  0.996666\n",
       "2021-04-27 00:00:00.000  0.996666\n",
       "2021-04-27 23:59:59.999  0.996666\n",
       "2021-04-28 00:00:00.000  0.996666\n",
       "2021-04-28 23:59:59.999  0.996666\n",
       "\n",
       "[1222 rows x 1 columns]"
      ]
     },
     "execution_count": 30,
     "metadata": {},
     "output_type": "execute_result"
    }
   ],
   "source": [
    "cr1"
   ]
  },
  {
   "cell_type": "code",
   "execution_count": 31,
   "id": "1717aec7",
   "metadata": {
    "scrolled": true
   },
   "outputs": [
    {
     "data": {
      "text/html": [
       "<div>\n",
       "<style scoped>\n",
       "    .dataframe tbody tr th:only-of-type {\n",
       "        vertical-align: middle;\n",
       "    }\n",
       "\n",
       "    .dataframe tbody tr th {\n",
       "        vertical-align: top;\n",
       "    }\n",
       "\n",
       "    .dataframe thead th {\n",
       "        text-align: right;\n",
       "    }\n",
       "</style>\n",
       "<table border=\"1\" class=\"dataframe\">\n",
       "  <thead>\n",
       "    <tr style=\"text-align: right;\">\n",
       "      <th></th>\n",
       "      <th>cum_ret</th>\n",
       "      <th>cum_ret</th>\n",
       "    </tr>\n",
       "    <tr>\n",
       "      <th>index</th>\n",
       "      <th></th>\n",
       "      <th></th>\n",
       "    </tr>\n",
       "  </thead>\n",
       "  <tbody>\n",
       "    <tr>\n",
       "      <th>2010-07-27 00:00:00.000</th>\n",
       "      <td>1.0</td>\n",
       "      <td>NaN</td>\n",
       "    </tr>\n",
       "    <tr>\n",
       "      <th>2010-07-27 23:59:59.999</th>\n",
       "      <td>1.0</td>\n",
       "      <td>NaN</td>\n",
       "    </tr>\n",
       "    <tr>\n",
       "      <th>2010-07-28 00:00:00.000</th>\n",
       "      <td>1.0</td>\n",
       "      <td>NaN</td>\n",
       "    </tr>\n",
       "    <tr>\n",
       "      <th>2010-07-28 23:59:59.999</th>\n",
       "      <td>1.0</td>\n",
       "      <td>NaN</td>\n",
       "    </tr>\n",
       "    <tr>\n",
       "      <th>2010-07-29 00:00:00.000</th>\n",
       "      <td>1.0</td>\n",
       "      <td>NaN</td>\n",
       "    </tr>\n",
       "    <tr>\n",
       "      <th>...</th>\n",
       "      <td>...</td>\n",
       "      <td>...</td>\n",
       "    </tr>\n",
       "    <tr>\n",
       "      <th>2021-04-26 23:59:59.999</th>\n",
       "      <td>NaN</td>\n",
       "      <td>0.996666</td>\n",
       "    </tr>\n",
       "    <tr>\n",
       "      <th>2021-04-27 00:00:00.000</th>\n",
       "      <td>NaN</td>\n",
       "      <td>0.996666</td>\n",
       "    </tr>\n",
       "    <tr>\n",
       "      <th>2021-04-27 23:59:59.999</th>\n",
       "      <td>NaN</td>\n",
       "      <td>0.996666</td>\n",
       "    </tr>\n",
       "    <tr>\n",
       "      <th>2021-04-28 00:00:00.000</th>\n",
       "      <td>NaN</td>\n",
       "      <td>0.996666</td>\n",
       "    </tr>\n",
       "    <tr>\n",
       "      <th>2021-04-28 23:59:59.999</th>\n",
       "      <td>NaN</td>\n",
       "      <td>0.996666</td>\n",
       "    </tr>\n",
       "  </tbody>\n",
       "</table>\n",
       "<p>2658 rows × 2 columns</p>\n",
       "</div>"
      ],
      "text/plain": [
       "                         cum_ret   cum_ret\n",
       "index                                     \n",
       "2010-07-27 00:00:00.000      1.0       NaN\n",
       "2010-07-27 23:59:59.999      1.0       NaN\n",
       "2010-07-28 00:00:00.000      1.0       NaN\n",
       "2010-07-28 23:59:59.999      1.0       NaN\n",
       "2010-07-29 00:00:00.000      1.0       NaN\n",
       "...                          ...       ...\n",
       "2021-04-26 23:59:59.999      NaN  0.996666\n",
       "2021-04-27 00:00:00.000      NaN  0.996666\n",
       "2021-04-27 23:59:59.999      NaN  0.996666\n",
       "2021-04-28 00:00:00.000      NaN  0.996666\n",
       "2021-04-28 23:59:59.999      NaN  0.996666\n",
       "\n",
       "[2658 rows x 2 columns]"
      ]
     },
     "execution_count": 31,
     "metadata": {},
     "output_type": "execute_result"
    }
   ],
   "source": [
    "pd.concat([cr0, cr1], axis=1)"
   ]
  },
  {
   "cell_type": "code",
   "execution_count": null,
   "id": "2d44cc54",
   "metadata": {},
   "outputs": [],
   "source": [
    "def cal_avg_cum_ret(cum_rets, time_range):\n",
    "    \"\"\"\n",
    "    计算平均累计收益率。\n",
    "    cum_rets:defaultdict(list)\n",
    "    \"\"\"\n",
    "    c_and_rs = [cal_cost_and_ret(cum_ret)\n",
    "                for cum_ret in cum_rets]\n",
    "    \n",
    "    expanded_c_and_rs = [expand(c_and_r, time_range).fillna(0) for c_and_r in c_and_rs]\n",
    "    sum_c_and_r = sum(expanded_c_and_rs)\n",
    "    sum_c_and_r['avg_ret'] = (sum_c_and_r['ret'] / sum_c_and_r['cost']).fillna(0)\n",
    "    sum_c_and_r['avg_cum_ret'] = (1 + sum_c_and_r['avg_ret']).cumprod()\n",
    "    return sum_c_and_r['avg_cum_ret']"
   ]
  },
  {
   "cell_type": "code",
   "execution_count": 4,
   "id": "1aff3c72",
   "metadata": {},
   "outputs": [],
   "source": [
    "def get_curve_from_document(curve_name):\n",
    "    df\n",
    "    \n",
    "    "
   ]
  },
  {
   "cell_type": "code",
   "execution_count": 6,
   "id": "d7b988f7",
   "metadata": {},
   "outputs": [],
   "source": [
    "document0 = next(cursor)\n"
   ]
  },
  {
   "cell_type": "code",
   "execution_count": 7,
   "id": "c747e457",
   "metadata": {},
   "outputs": [
    {
     "ename": "NameError",
     "evalue": "name 'document' is not defined",
     "output_type": "error",
     "traceback": [
      "\u001b[1;31m---------------------------------------------------------------------------\u001b[0m",
      "\u001b[1;31mNameError\u001b[0m                                 Traceback (most recent call last)",
      "\u001b[1;32m<ipython-input-7-c41318d0b3b1>\u001b[0m in \u001b[0;36m<module>\u001b[1;34m\u001b[0m\n\u001b[1;32m----> 1\u001b[1;33m \u001b[0mbt_cum_ret\u001b[0m \u001b[1;33m=\u001b[0m \u001b[0mpd\u001b[0m\u001b[1;33m.\u001b[0m\u001b[0mDataFrame\u001b[0m\u001b[1;33m(\u001b[0m\u001b[0mdata\u001b[0m\u001b[1;33m=\u001b[0m\u001b[0mdocument\u001b[0m\u001b[1;33m[\u001b[0m\u001b[1;34m'bt_cum_ret'\u001b[0m\u001b[1;33m]\u001b[0m\u001b[1;33m)\u001b[0m\u001b[1;33m.\u001b[0m\u001b[0mset_index\u001b[0m\u001b[1;33m(\u001b[0m\u001b[1;34m'index'\u001b[0m\u001b[1;33m)\u001b[0m\u001b[1;33m\u001b[0m\u001b[1;33m\u001b[0m\u001b[0m\n\u001b[0m\u001b[0;32m      2\u001b[0m \u001b[0mpd_cum_ret\u001b[0m \u001b[1;33m=\u001b[0m \u001b[0mpd\u001b[0m\u001b[1;33m.\u001b[0m\u001b[0mDataFrame\u001b[0m\u001b[1;33m(\u001b[0m\u001b[0mdata\u001b[0m\u001b[1;33m=\u001b[0m\u001b[0mdocument\u001b[0m\u001b[1;33m[\u001b[0m\u001b[1;34m'pd_cum_ret'\u001b[0m\u001b[1;33m]\u001b[0m\u001b[1;33m)\u001b[0m\u001b[1;33m.\u001b[0m\u001b[0mset_index\u001b[0m\u001b[1;33m(\u001b[0m\u001b[1;34m'index'\u001b[0m\u001b[1;33m)\u001b[0m\u001b[1;33m\u001b[0m\u001b[1;33m\u001b[0m\u001b[0m\n",
      "\u001b[1;31mNameError\u001b[0m: name 'document' is not defined"
     ]
    }
   ],
   "source": [
    "bt_cum_ret = pd.DataFrame(data=document['bt_cum_ret']).set_index('index')\n",
    "pd_cum_ret = pd.DataFrame(data=document['pd_cum_ret']).set_index('index')"
   ]
  },
  {
   "cell_type": "code",
   "execution_count": null,
   "id": "261195c5",
   "metadata": {},
   "outputs": [],
   "source": [
    "comparison_plot([bt_cum_ret, pd_cum_ret], '', ['backtrader', 'pandas'])    "
   ]
  },
  {
   "cell_type": "code",
   "execution_count": null,
   "id": "26f4c179",
   "metadata": {},
   "outputs": [],
   "source": []
  },
  {
   "cell_type": "code",
   "execution_count": null,
   "id": "272ed9af",
   "metadata": {},
   "outputs": [],
   "source": [
    "bt_cum_ret.plot()\n",
    "bt_cum_ret.plot()"
   ]
  }
 ],
 "metadata": {
  "kernelspec": {
   "display_name": "Python 3",
   "language": "python",
   "name": "python3"
  },
  "language_info": {
   "codemirror_mode": {
    "name": "ipython",
    "version": 3
   },
   "file_extension": ".py",
   "mimetype": "text/x-python",
   "name": "python",
   "nbconvert_exporter": "python",
   "pygments_lexer": "ipython3",
   "version": "3.7.6"
  }
 },
 "nbformat": 4,
 "nbformat_minor": 5
}
