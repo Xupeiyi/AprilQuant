{
 "cells": [
  {
   "cell_type": "code",
   "execution_count": 31,
   "id": "f80d7321",
   "metadata": {},
   "outputs": [],
   "source": [
    "import os\n",
    "import pandas as pd\n",
    "from glob import glob\n",
    "from collections import defaultdict"
   ]
  },
  {
   "cell_type": "code",
   "execution_count": 34,
   "id": "987929a0",
   "metadata": {},
   "outputs": [],
   "source": [
    "root_path = '..\\\\..\\\\cache\\\\'\n",
    "backtest_data = defaultdict(list)\n",
    "for category in categories:\n",
    "    category_path = root_path + f'{category}\\\\'\n",
    "    csv_files = os.listdir(category_path)\n",
    "    for file in csv_files:\n",
    "        df = pd.read_csv(category_path + file, parse_dates=['date'])\n",
    "        backtest_data[category].append(df)"
   ]
  },
  {
   "cell_type": "code",
   "execution_count": null,
   "id": "fd4815b1",
   "metadata": {},
   "outputs": [],
   "source": [
    "class Tester:\n",
    "    \n",
    "    def __init__(params)"
   ]
  }
 ],
 "metadata": {
  "kernelspec": {
   "display_name": "Python 3",
   "language": "python",
   "name": "python3"
  },
  "language_info": {
   "codemirror_mode": {
    "name": "ipython",
    "version": 3
   },
   "file_extension": ".py",
   "mimetype": "text/x-python",
   "name": "python",
   "nbconvert_exporter": "python",
   "pygments_lexer": "ipython3",
   "version": "3.7.6"
  }
 },
 "nbformat": 4,
 "nbformat_minor": 5
}
